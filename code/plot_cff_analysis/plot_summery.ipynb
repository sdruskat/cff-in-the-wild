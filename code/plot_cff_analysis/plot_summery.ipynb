{
 "cells": [
  {
   "cell_type": "markdown",
   "metadata": {},
   "source": [
    "# CFF analysis\n"
   ]
  },
  {
   "cell_type": "markdown",
   "metadata": {},
   "source": [
    "## Naming convention\n",
    "\n",
    "Are all files called CITATION.cff\n"
   ]
  },
  {
   "cell_type": "code",
   "execution_count": null,
   "metadata": {},
   "outputs": [],
   "source": [
    "import pandas as pd\n",
    "import numpy as np\n",
    "from matplotlib import pyplot as plt\n",
    "from IPython.display import display\n",
    "\n",
    "fontsize = 18"
   ]
  },
  {
   "cell_type": "code",
   "execution_count": null,
   "metadata": {},
   "outputs": [],
   "source": [
    "data_name = 'Named CITATION.cff'\n",
    "df = pd.DataFrame({data_name: ['Yes', 'No'],\n",
    "                   'Number of files': [700, 300]})\n",
    "\n",
    "display(df)\n",
    "df.set_index(data_name, inplace=True)\n",
    "\n",
    "plot = df.plot.pie(subplots=True, title=data_name, legend=False, \\\n",
    "                   autopct='%1.1f%%',  \\\n",
    "                   shadow=True, startangle=0, textprops={'fontsize': fontsize})\n",
    "\n",
    "plt.savefig(data_name.replace(\" \",\"_\")+'.png')"
   ]
  },
  {
   "cell_type": "markdown",
   "metadata": {},
   "source": [
    "## Files validity \n",
    "\n",
    "What is the ratio of valid:invalid CFF files\n"
   ]
  },
  {
   "cell_type": "code",
   "execution_count": null,
   "metadata": {},
   "outputs": [],
   "source": [
    "data_name = 'Validity'\n",
    "df = pd.DataFrame({data_name: ['Not parsable', 'Valid', 'Not Valid'],\n",
    "                   'Number of files': [200, 400, 400]})\n",
    "\n",
    "display(df)\n",
    "df.set_index(data_name, inplace=True)\n",
    "\n",
    "plot = df.plot.pie(subplots=True, title=data_name, legend=False, \\\n",
    "                   autopct='%1.1f%%',  \\\n",
    "                   shadow=True, startangle=0, textprops={'fontsize': fontsize})\n",
    "\n",
    "plt.savefig(data_name.replace(\" \",\"_\")+'.png')"
   ]
  },
  {
   "cell_type": "markdown",
   "metadata": {},
   "source": [
    "## use of `cffinit`\n",
    "\n",
    "How many files have been created using [cffinit](https://bit.ly/cffinit) (judging by comment in file)"
   ]
  },
  {
   "cell_type": "code",
   "execution_count": null,
   "metadata": {},
   "outputs": [],
   "source": [
    "data_name = 'cffinit used'\n",
    "df = pd.DataFrame({data_name: ['Yes', 'No'],\n",
    "                   'Number of files': [600, 400]})\n",
    "\n",
    "display(df)\n",
    "df.set_index(data_name, inplace=True)\n",
    "\n",
    "plot = df.plot.pie(subplots=True, title=data_name, legend=False, \\\n",
    "                   autopct='%1.1f%%',  \\\n",
    "                   shadow=True, startangle=0, textprops={'fontsize': fontsize})\n",
    "\n",
    "plt.savefig(data_name.replace(\" \",\"_\")+'.png')"
   ]
  },
  {
   "cell_type": "markdown",
   "metadata": {},
   "source": [
    "## Adherence to the [software citation principles](https://peerj.com/articles/cs-86/): What are the ratios for:\n",
    "- providing `version`\n",
    "- providing `repository-code` only\n",
    "- providing `doi` or `identifiers/doi` and others\n",
    "- providing `preferred-citation`"
   ]
  },
  {
   "cell_type": "code",
   "execution_count": null,
   "metadata": {},
   "outputs": [],
   "source": [
    "fontsize_1 = fontsize -8\n",
    "data_name1 = 'provide version'\n",
    "data_name2 = 'provide repository-code only'\n",
    "data_name3 = 'provide identifiers/doi'\n",
    "data_name4 = 'provide preferred-citation'\n",
    "df = pd.DataFrame({'criteria': ['#yes', '#No'],\n",
    "                   data_name1: [600, 400],\n",
    "                   data_name2: [300, 700],\n",
    "                   data_name3: [500, 500],\n",
    "                   data_name3: [900, 100],\n",
    "                  })\n",
    "\n",
    "display(df)\n",
    "df.set_index('criteria', inplace=True)\n",
    "\n",
    "plot = df.plot.pie(subplots=True, title=data_name, legend=False, \\\n",
    "                   autopct='%1.1f%%',  \\\n",
    "                   shadow=True, startangle=0, textprops={'fontsize': fontsize}, figsize=(12,4))\n",
    "\n",
    "plt.savefig(data_name.replace(\" \",\"_\")+'.png')"
   ]
  },
  {
   "cell_type": "markdown",
   "metadata": {},
   "source": [
    "## `type`\n",
    "Usage of `type: dataset` vs. (`type: software` || `None`)"
   ]
  },
  {
   "cell_type": "code",
   "execution_count": null,
   "metadata": {},
   "outputs": [],
   "source": [
    "data_name = 'type'\n",
    "df = pd.DataFrame({data_name: ['dataset', 'software', 'None'],\n",
    "                   'Number of files': [600, 300, 100]})\n",
    "\n",
    "display(df)\n",
    "df.set_index(data_name, inplace=True)\n",
    "\n",
    "plot = df.plot.pie(subplots=True, title=data_name, legend=False, \\\n",
    "                   autopct='%1.1f%%',  \\\n",
    "                   shadow=True, startangle=0, textprops={'fontsize': fontsize})\n",
    "\n",
    "plt.savefig(data_name.replace(\" \",\"_\")+'.png')"
   ]
  },
  {
   "cell_type": "markdown",
   "metadata": {},
   "source": [
    "## Usage of references \n",
    "\n",
    "- Uses references"
   ]
  },
  {
   "cell_type": "code",
   "execution_count": null,
   "metadata": {},
   "outputs": [],
   "source": [
    "data_name = 'Uses references'\n",
    "df = pd.DataFrame({data_name: ['Yes', 'No'],\n",
    "                   'Number of files': [600, 400]})\n",
    "\n",
    "display(df)\n",
    "df.set_index(data_name, inplace=True)\n",
    "\n",
    "plot = df.plot.pie(subplots=True, title=data_name, legend=False, \\\n",
    "                   autopct='%1.1f%%',  \\\n",
    "                   shadow=True, startangle=0, textprops={'fontsize': fontsize})\n",
    "\n",
    "plt.savefig(data_name.replace(\" \",\"_\")+'.png')"
   ]
  },
  {
   "cell_type": "markdown",
   "metadata": {},
   "source": [
    "- avg. number of references\n"
   ]
  },
  {
   "cell_type": "code",
   "execution_count": null,
   "metadata": {},
   "outputs": [],
   "source": [
    "data_name = 'Number of references'\n",
    "num_references = np.round(np.random.uniform(1,10, 1000))\n",
    "\n",
    "df = pd.DataFrame(\n",
    "    num_references,\n",
    "    columns = [data_name])\n",
    "\n",
    "ax = df.plot.hist(bins=12, alpha=0.5)"
   ]
  },
  {
   "cell_type": "markdown",
   "metadata": {},
   "source": [
    "- reference type distribution"
   ]
  },
  {
   "cell_type": "code",
   "execution_count": null,
   "metadata": {},
   "outputs": [],
   "source": [
    "data_name = 'References type'\n",
    "df = pd.DataFrame({data_name: ['URL', 'doi'],\n",
    "                   'Number of refernces': [5000, 1000]})\n",
    "\n",
    "display(df)\n",
    "df.set_index(data_name, inplace=True)\n",
    "\n",
    "plot = df.plot.pie(subplots=True, title=data_name, legend=False, \\\n",
    "                   autopct='%1.1f%%',  \\\n",
    "                   shadow=True, startangle=0, textprops={'fontsize': fontsize})\n",
    "\n",
    "plt.savefig(data_name.replace(\" \",\"_\")+'.png')"
   ]
  },
  {
   "cell_type": "markdown",
   "metadata": {},
   "source": [
    "## Non-standard fields\n",
    "\n",
    "Usage of non-standard fields. Such fields might reveal a gap in the information stored by the default schema and might inform future development for the CFF schema "
   ]
  },
  {
   "cell_type": "code",
   "execution_count": null,
   "metadata": {},
   "outputs": [],
   "source": [
    "data_name = 'Uses Non-standard fields'\n",
    "df = pd.DataFrame({data_name: ['Yes', 'No'],\n",
    "                   'Number of files': [600, 400]})\n",
    "\n",
    "display(df)\n",
    "df.set_index(data_name, inplace=True)\n",
    "\n",
    "plot = df.plot.pie(subplots=True, title=data_name, legend=False, \\\n",
    "                   autopct='%1.1f%%',  \\\n",
    "                   shadow=True, startangle=0, textprops={'fontsize': fontsize})\n",
    "\n",
    "plt.savefig(data_name.replace(\" \",\"_\")+'.png')"
   ]
  },
  {
   "cell_type": "code",
   "execution_count": null,
   "metadata": {},
   "outputs": [],
   "source": []
  }
 ],
 "metadata": {
  "kernelspec": {
   "display_name": "Python 3",
   "language": "python",
   "name": "python3"
  },
  "language_info": {
   "codemirror_mode": {
    "name": "ipython",
    "version": 3
   },
   "file_extension": ".py",
   "mimetype": "text/x-python",
   "name": "python",
   "nbconvert_exporter": "python",
   "pygments_lexer": "ipython3",
   "version": "3.8.2"
  }
 },
 "nbformat": 4,
 "nbformat_minor": 2
}
