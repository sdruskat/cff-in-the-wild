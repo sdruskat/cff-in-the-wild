{
 "cells": [
  {
   "cell_type": "code",
   "execution_count": 1,
   "id": "097f19cc",
   "metadata": {},
   "outputs": [],
   "source": [
    "import requests\n",
    "import rclib"
   ]
  },
  {
   "cell_type": "code",
   "execution_count": 2,
   "id": "f5a2ff2d",
   "metadata": {},
   "outputs": [],
   "source": [
    "user = 'sdruskat'\n",
    "repo = 'cff-in-the-wild'\n",
    "file = 'README.md'"
   ]
  },
  {
   "cell_type": "code",
   "execution_count": 3,
   "id": "6fb7f88a",
   "metadata": {},
   "outputs": [
    {
     "name": "stdout",
     "output_type": "stream",
     "text": [
      "# cff-in-the-wild\n",
      "\n",
      "Analysis of Citation File Format files on GitHub.\n",
      "\n",
      "This is an [SSI Collaborations Workshop 2022](https://software.ac.uk/cw22) hack day project 😍.\n",
      "\n",
      "## Repository structure 🗂️\n",
      "\n",
      "```\n",
      ". (root)/                    You are here.\n",
      "├─ code/                     \n",
      "│  ├─ data-retrieval/        Code/software for data retrieval from GitHub\n",
      "├─ data/                     The data we analyse\n",
      "│  ├─ raw/                   NEVER MAKE THIS PUBLIC! DATA PRIVACY!\n",
      "├─ output/\n",
      "│  ├─ figures/               Figures for the presentation\n",
      "```\n",
      "\n",
      "\n",
      "## Introduction\n",
      "\n",
      "tba\n",
      "\n",
      "## Licenses ⚖️\n",
      "\n",
      "tbd\n",
      "\n",
      "## Contributors 💖\n",
      "\n"
     ]
    }
   ],
   "source": [
    "print(rclib.get_file_from_repo(user, repo, file))"
   ]
  }
 ],
 "metadata": {
  "kernelspec": {
   "display_name": "Python 3 (ipykernel)",
   "language": "python",
   "name": "python3"
  },
  "language_info": {
   "codemirror_mode": {
    "name": "ipython",
    "version": 3
   },
   "file_extension": ".py",
   "mimetype": "text/x-python",
   "name": "python",
   "nbconvert_exporter": "python",
   "pygments_lexer": "ipython3",
   "version": "3.9.7"
  }
 },
 "nbformat": 4,
 "nbformat_minor": 5
}
